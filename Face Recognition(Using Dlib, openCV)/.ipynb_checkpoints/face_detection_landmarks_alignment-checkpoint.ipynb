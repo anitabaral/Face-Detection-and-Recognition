{
 "cells": [
  {
   "cell_type": "code",
   "execution_count": 6,
   "metadata": {},
   "outputs": [],
   "source": [
    "import sys\n",
    "import dlib\n",
    "import cv2\n",
    "import openface\n",
    "from skimage import io"
   ]
  },
  {
   "cell_type": "code",
   "execution_count": 39,
   "metadata": {},
   "outputs": [],
   "source": [
    "def align_image(img, face_rect):\n",
    "\n",
    "    predictor_model = \"shape_predictor_68_face_landmarks.dat\"\n",
    "    face_aligner = openface.AlignDlib(predictor_model)\n",
    "    alignedFace = face_aligner.align(\n",
    "        96,\n",
    "        img,\n",
    "        face_rect,\n",
    "        landmarkIndices=openface.AlignDlib.OUTER_EYES_AND_NOSE)\n",
    "\n",
    "    return alignedFace"
   ]
  }
 ],
 "metadata": {
  "kernelspec": {
   "display_name": "Python 3",
   "language": "python",
   "name": "python3"
  },
  "language_info": {
   "codemirror_mode": {
    "name": "ipython",
    "version": 3
   },
   "file_extension": ".py",
   "mimetype": "text/x-python",
   "name": "python",
   "nbconvert_exporter": "python",
   "pygments_lexer": "ipython3",
   "version": "3.6.10"
  }
 },
 "nbformat": 4,
 "nbformat_minor": 4
}
