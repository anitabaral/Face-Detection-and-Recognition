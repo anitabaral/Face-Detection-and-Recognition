{
 "cells": [
  {
   "cell_type": "code",
   "execution_count": 1,
   "metadata": {},
   "outputs": [],
   "source": [
    "import argparse\n",
    "import imutils\n",
    "import time\n",
    "import cv2\n",
    "import os\n",
    "from imutils.video import VideoStream"
   ]
  },
  {
   "cell_type": "code",
   "execution_count": 2,
   "metadata": {},
   "outputs": [
    {
     "ename": "NameError",
     "evalue": "name 'vs' is not defined",
     "output_type": "error",
     "traceback": [
      "\u001b[1;31m---------------------------------------------------------------------------\u001b[0m",
      "\u001b[1;31mNameError\u001b[0m                                 Traceback (most recent call last)",
      "\u001b[1;32m<ipython-input-2-adc9802d00e5>\u001b[0m in \u001b[0;36m<module>\u001b[1;34m\u001b[0m\n\u001b[0;32m      1\u001b[0m \u001b[0mcv2\u001b[0m\u001b[1;33m.\u001b[0m\u001b[0mdestroyAllWindows\u001b[0m\u001b[1;33m(\u001b[0m\u001b[1;33m)\u001b[0m\u001b[1;33m\u001b[0m\u001b[1;33m\u001b[0m\u001b[0m\n\u001b[1;32m----> 2\u001b[1;33m \u001b[0mvs\u001b[0m\u001b[1;33m.\u001b[0m\u001b[0mstop\u001b[0m\u001b[1;33m(\u001b[0m\u001b[1;33m)\u001b[0m\u001b[1;33m\u001b[0m\u001b[1;33m\u001b[0m\u001b[0m\n\u001b[0m",
      "\u001b[1;31mNameError\u001b[0m: name 'vs' is not defined"
     ]
    }
   ],
   "source": [
    "cv2.destroyAllWindows()\n",
    "vs.stop()"
   ]
  },
  {
   "cell_type": "code",
   "execution_count": null,
   "metadata": {},
   "outputs": [],
   "source": [
    "ap = argparse.ArgumentParser()\n",
    "##--cascade :The path to the Haar cascade file on disk\n",
    "##--output :The path to the output directory. Images of faces will be stored in this directory\n",
    "ap.add_argument(\"-c\",\n",
    "                \"--cascade\",\n",
    "                required=True,\n",
    "                help=\"path to where the face cascade resides\")\n",
    "ap.add_argument(\"-o\",\n",
    "                \"--output\",\n",
    "                required=True,\n",
    "                help=\"path to output directory\")\n",
    "args = vars(ap.parse_args())\n",
    "\n",
    "detector = cv2.CascadeClassifier(args[\"cascade\"])\n",
    "vs = VideoStream(src=0).start()\n",
    "time.sleep(2.0)\n",
    "total = 0\n",
    "\n",
    "while True:\n",
    "    # grab the frame from the threaded video stream, clone it, (just\n",
    "    # in case we want to write it to disk), and then resize the frame\n",
    "    # so we can apply face detection faster\n",
    "    frame = vs.read()\n",
    "    orig = frame.copy()\n",
    "    frame = imutils.resize(frame, width=400)\n",
    "    # detect faces in the grayscale frame\n",
    "    rects = detector.detectMultiScale(cv2.cvtColor(frame, cv2.COLOR_BGR2GRAY),\n",
    "                                      scaleFactor=1.1,\n",
    "                                      minNeighbors=5,\n",
    "                                      minSize=(30, 30))\n",
    "    # loop over the face detections and draw them on the frame\n",
    "    for (x, y, w, h) in rects:\n",
    "        cv2.rectangle(frame, (x, y), (x + w, y + h), (0, 255, 0), 2)\n",
    "        # show the output frame\n",
    "        cv2.imshow(\"Frame\", frame)\n",
    "        key = cv2.waitKey(1) & 0xFF\n",
    "\n",
    "        # if the `k` key was pressed, write the *original* frame to disk\n",
    "        # so we can later process it and use it for face recognition\n",
    "        if key == ord(\"k\"):\n",
    "            p = os.path.sep.join(\n",
    "                [args[\"output\"], \"{}.png\".format(str(total).zfill(5))])\n",
    "            cv2.imwrite(p, orig)\n",
    "            total += 1\n",
    "        # if the `q` key was pressed, break from the loop\n",
    "        elif key == ord(\"q\"):\n",
    "            break\n",
    "\n",
    "print(\"[INFO] {} face images stored\".format(total))\n",
    "print('[INFO] {} cleaning up...')\n",
    "cv2.destroyAllWindows()\n",
    "vs.stop()"
   ]
  }
 ],
 "metadata": {
  "kernelspec": {
   "display_name": "Python 3",
   "language": "python",
   "name": "python3"
  },
  "language_info": {
   "codemirror_mode": {
    "name": "ipython",
    "version": 3
   },
   "file_extension": ".py",
   "mimetype": "text/x-python",
   "name": "python",
   "nbconvert_exporter": "python",
   "pygments_lexer": "ipython3",
   "version": "3.6.10"
  }
 },
 "nbformat": 4,
 "nbformat_minor": 4
}
